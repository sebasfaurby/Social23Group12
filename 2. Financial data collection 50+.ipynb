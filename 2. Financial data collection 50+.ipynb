{
 "cells": [
  {
   "cell_type": "markdown",
   "id": "7af7db82-57b2-400b-b26e-d1af25cd3e11",
   "metadata": {},
   "source": [
    "# Data collection (Financial data only)\n",
    "\n",
    "The very first step is to collect data!\n",
    "The data will be collected and saved in three folders:\n",
    "- #### End of day data\n",
    "Historical end of day data for stock prices.\n",
    "\n",
    "- #### Fundamental data\n",
    "Fundamental data for a given stock i.e eps and outstanding shares.\n"
   ]
  },
  {
   "cell_type": "code",
   "execution_count": 1,
   "id": "6be11709-2b40-4122-9f20-e83d0e8f72bf",
   "metadata": {
    "collapsed": true,
    "jupyter": {
     "outputs_hidden": true
    },
    "tags": []
   },
   "outputs": [
    {
     "name": "stdout",
     "output_type": "stream",
     "text": [
      "Requirement already satisfied: eodhd in c:\\users\\soren\\appdata\\roaming\\python\\python310\\site-packages (1.0.20)\n",
      "Requirement already satisfied: websockets==10.3 in c:\\users\\soren\\appdata\\roaming\\python\\python310\\site-packages (from eodhd) (10.3)\n",
      "Requirement already satisfied: websocket-client==1.3.3 in c:\\users\\soren\\appdata\\roaming\\python\\python310\\site-packages (from eodhd) (1.3.3)\n",
      "Requirement already satisfied: requests==2.28.1 in c:\\users\\soren\\appdata\\roaming\\python\\python310\\site-packages (from eodhd) (2.28.1)\n",
      "Requirement already satisfied: rich==12.5.1 in c:\\users\\soren\\appdata\\roaming\\python\\python310\\site-packages (from eodhd) (12.5.1)\n",
      "Requirement already satisfied: pandas==2.0.3 in c:\\users\\soren\\appdata\\roaming\\python\\python310\\site-packages (from eodhd) (2.0.3)\n",
      "Collecting numpy==1.21.6 (from eodhd)\n",
      "  Using cached numpy-1.21.6-cp310-cp310-win_amd64.whl (14.0 MB)\n",
      "Requirement already satisfied: python-dateutil>=2.8.2 in c:\\users\\soren\\.conda\\envs\\pydata-book\\lib\\site-packages (from pandas==2.0.3->eodhd) (2.8.2)\n",
      "Requirement already satisfied: pytz>=2020.1 in c:\\users\\soren\\.conda\\envs\\pydata-book\\lib\\site-packages (from pandas==2.0.3->eodhd) (2023.3)\n",
      "Requirement already satisfied: tzdata>=2022.1 in c:\\users\\soren\\appdata\\roaming\\python\\python310\\site-packages (from pandas==2.0.3->eodhd) (2023.3)\n",
      "Requirement already satisfied: charset-normalizer<3,>=2 in c:\\users\\soren\\.conda\\envs\\pydata-book\\lib\\site-packages (from requests==2.28.1->eodhd) (2.1.1)\n",
      "Requirement already satisfied: idna<4,>=2.5 in c:\\users\\soren\\.conda\\envs\\pydata-book\\lib\\site-packages (from requests==2.28.1->eodhd) (3.4)\n",
      "Requirement already satisfied: urllib3<1.27,>=1.21.1 in c:\\users\\soren\\.conda\\envs\\pydata-book\\lib\\site-packages (from requests==2.28.1->eodhd) (1.26.16)\n",
      "Requirement already satisfied: certifi>=2017.4.17 in c:\\users\\soren\\.conda\\envs\\pydata-book\\lib\\site-packages (from requests==2.28.1->eodhd) (2023.7.22)\n",
      "Requirement already satisfied: commonmark<0.10.0,>=0.9.0 in c:\\users\\soren\\appdata\\roaming\\python\\python310\\site-packages (from rich==12.5.1->eodhd) (0.9.1)\n",
      "Requirement already satisfied: pygments<3.0.0,>=2.6.0 in c:\\users\\soren\\appdata\\roaming\\python\\python310\\site-packages (from rich==12.5.1->eodhd) (2.15.1)\n",
      "Requirement already satisfied: six>=1.5 in c:\\users\\soren\\.conda\\envs\\pydata-book\\lib\\site-packages (from python-dateutil>=2.8.2->pandas==2.0.3->eodhd) (1.16.0)\n",
      "Installing collected packages: numpy\n",
      "  Attempting uninstall: numpy\n",
      "    Found existing installation: numpy 1.25.2\n",
      "    Uninstalling numpy-1.25.2:\n",
      "      Successfully uninstalled numpy-1.25.2\n"
     ]
    },
    {
     "name": "stderr",
     "output_type": "stream",
     "text": [
      "ERROR: Could not install packages due to an OSError: [WinError 5] Adgang nægtet: 'C:\\\\Users\\\\Soren\\\\.conda\\\\envs\\\\pydata-book\\\\Lib\\\\site-packages\\\\numpy\\\\~libs\\\\libopenblas64__v0.3.23-246-g3d31191b-gcc_10_3_0.dll'\n",
      "Consider using the `--user` option or check the permissions.\n",
      "\n"
     ]
    }
   ],
   "source": [
    "!pip install eodhd"
   ]
  },
  {
   "cell_type": "code",
   "execution_count": 1,
   "id": "969f4761-97d0-4044-867b-dcea5ad27e51",
   "metadata": {
    "tags": []
   },
   "outputs": [],
   "source": [
    "import pandas as pd\n",
    "import numpy as np\n",
    "#import pandas_datareader.data as web\n",
    "from datetime import datetime\n",
    "from pathlib import Path\n",
    "import requests\n",
    "import json\n",
    "import tqdm\n",
    "import time\n",
    "import os\n",
    "import tqdm\n",
    "from eodhd import APIClient\n",
    "import datetime\n",
    "import matplotlib.pyplot as plt\n",
    "import pprint\n",
    "from bs4 import BeautifulSoup as BS\n"
   ]
  },
  {
   "cell_type": "code",
   "execution_count": 2,
   "id": "82d0562c-ee51-4b6c-9b1f-93b36419db6d",
   "metadata": {
    "tags": []
   },
   "outputs": [],
   "source": [
    "api = \"64d77f6d3a60a5.24835840\" #API key\n",
    "eod_path = Path.cwd()/\"Eod\" #path to create folder where end of day stock prices will be stored\n",
    "fundamentals_path = Path.cwd()/\"Fundamentals\"\n",
    "SingleStock_data = Path.cwd()/\"SingleStock_data\"\n",
    "Path.mkdir(eod_path, exist_ok=True)\n",
    "Path.mkdir(fundamentals_path, exist_ok = True)\n",
    "Path.mkdir(SingleStock_data, exist_ok=True)"
   ]
  },
  {
   "cell_type": "markdown",
   "id": "9ff22e5f-7449-4209-8f84-d1cc526929f9",
   "metadata": {},
   "source": [
    "## Define functions"
   ]
  },
  {
   "cell_type": "code",
   "execution_count": 4,
   "id": "c5da3d15-4111-4181-8eb9-20a65d31cf82",
   "metadata": {
    "tags": []
   },
   "outputs": [],
   "source": [
    "def stock_eod(ticker):\n",
    "    \"\"\"\n",
    "    Get stock data End of Day prices.\n",
    "    \n",
    "    Args(str): ticker name of the stock\n",
    "    \n",
    "    Returns a pandas dataframe outer-merged on 'datetime' \n",
    "    \"\"\"\n",
    "    \n",
    "    ###MAKE API CLALL###\n",
    "    Timeseries = requests.get(f'https://eodhistoricaldata.com/api/eod/{ticker}.US?order=d&from=2022-01-01&to=2023-07-31&period=d&&api_token={api}&fmt=json')\n",
    "    \n",
    "    ### convert json files to pandas dataframes\n",
    "    timeseries_df = pd.DataFrame(Timeseries.json())\n",
    "    timeseries_df[\"date\"] = pd.to_datetime(timeseries_df[\"date\"])  #change date format to datetime\n",
    "    \n",
    "    stock_df = timeseries_df\n",
    "    \n",
    "    return stock_df\n",
    "\n",
    "def stock_fundamental(ticker):\n",
    "    \n",
    "    \"\"\"\n",
    "    Collect fundamentals for a stock given its ticker\n",
    "    \n",
    "    Args(str): ticker\n",
    "    \n",
    "    Returns a pandas dataframe with fundamentals data\n",
    "    \"\"\"\n",
    "    \n",
    "    #Get all fundamental data for a given ticker \n",
    "    url = f'https://eodhistoricaldata.com/api/fundamentals/{ticker}.US?api_token={api}&order=d&filter=outstandingShares::quarterly,Earnings::History'\n",
    "    resp = requests.get(url) #make request\n",
    "    json = resp.json() #convert to json\n",
    "\n",
    "    #get outstandingShares data and convert to dataframe\n",
    "    out = pd.DataFrame(json[\"outstandingShares::quarterly\"]).T\n",
    "    out = out.drop([\"date\", \"sharesMln\"], axis = 1).rename(columns = {\"dateFormatted\":\"date\", \"shares\":\"outstandingShares\"})\n",
    "    out[\"date\"] = pd.to_datetime(out[\"date\"]) #change dateformat to datetime\n",
    "    out.set_index('date', inplace =True)\n",
    "    out = out.resample('D').ffill() #Fill values in between days\n",
    "    out.sort_index(ascending=False, inplace=True)\n",
    "    out.reset_index(inplace=True)\n",
    "\n",
    "    #get earnings data and convert to dataframe\n",
    "    earn = pd.DataFrame(json[\"Earnings::History\"]).T\n",
    "    earn = earn.drop([\"reportDate\", \"beforeAfterMarket\"], axis = 1).reset_index().drop(\"index\",axis = 1)\n",
    "    earn[\"date\"] = pd.to_datetime(earn[\"date\"]) #change dateformat to datetime\n",
    "    earn.set_index('date', inplace =True)\n",
    "    earn = earn.resample('D').ffill() #Fill values in between days\n",
    "    earn.sort_index(ascending=False, inplace=True)\n",
    "    earn.reset_index(inplace=True)\n",
    "\n",
    "    fundamental = earn.merge(out, how = \"left\", on = \"date\")\n",
    "    fundamental = fundamental[(fundamental[\"date\"]<='2023-07-31') & (fundamental[\"date\"]>='2022-01-01')].reset_index()\n",
    "    \n",
    "    #write a status to see if all data was gotten. Used in logfile later\n",
    "    status = \"No\"\n",
    "    if fundamental.shape == (577,8):\n",
    "        status = \"Yes\"\n",
    "    else:\n",
    "        status = \"No\"\n",
    "    \n",
    "    return fundamental, status\n",
    "\n",
    "\n",
    "def df_to_csv(df, name):\n",
    "    \"\"\"\n",
    "    Save a pandas dataframe into a csv file\n",
    "    \n",
    "    Args(pd.DataFrame, str): dataframe and the name of the file it should return.\n",
    "    When working with stock data name should be the ticker of the specified stock.\n",
    "    \n",
    "    requirements = requests, pandas, json should be installed and imported.\n",
    "    \n",
    "    returns 0, creates a csv file in /Data/Financial data\n",
    "    \"\"\"\n",
    "\n",
    "    pathname = Path.cwd()/f\"SingleStock_data/{name}.csv\"\n",
    "    \n",
    "    df.to_csv(pathname, index = False)\n",
    "    \n",
    "    return None\n",
    "\n",
    "def log(ticker, df, logfile, accept,output_path=os.getcwd()):\n",
    "    #open or create the csv file\n",
    "    if os.path.isfile(logfile): #if log file exist, open and allow changes\n",
    "        log = open(logfile,'a')\n",
    "    else:\n",
    "        log = open(logfile,'w')\n",
    "        header = ['Timestamp', 'Company', 'shape', 'Accept']\n",
    "        log.write(\";\".join(header)+\"\\n\") #Make the headers and jump to the new line\n",
    "    \n",
    "    #Gather log information\n",
    "    company = f\"{ticker}\"\n",
    "    timestamp = time.strftime('%Y-%m-%d %H:%M:%S', time.localtime(time.time())) #local time\n",
    "    shape = df.shape\n",
    "    \n",
    "    #Open the log file and append the gathered log information\n",
    "    with open(logfile, 'a') as log:\n",
    "        log.write(f'{timestamp};{company};{shape};{accept}' + \"\\n\") #Append the information and jump to the new line."
   ]
  },
  {
   "cell_type": "markdown",
   "id": "fe59160e-560e-4fce-acfc-9c86ccd3dc81",
   "metadata": {},
   "source": [
    "## Get data"
   ]
  },
  {
   "cell_type": "code",
   "execution_count": 5,
   "id": "1af37b3f",
   "metadata": {},
   "outputs": [
    {
     "name": "stdout",
     "output_type": "stream",
     "text": [
      "Selected file: c:\\Users\\Soren\\Documents\\GitHub\\IntroSocial23\\Exam final version\\Scripts and data\\nasdaq_screener_1692728308111.csv\n"
     ]
    }
   ],
   "source": [
    "# Part of the name that is constant\n",
    "nasdaq_part = 'nasdaq_screener'\n",
    "\n",
    "Path_ = os.getcwd()\n",
    "\n",
    "cwd = Path.cwd()\n",
    "\n",
    "file_list = os.listdir(Path_)\n",
    "\n",
    "# Filter files based on the target part of the name since the name can change\n",
    "filtered_files = [file_name for file_name in file_list if nasdaq_part in file_name and file_name.endswith('.csv')]\n",
    "\n",
    "# Checking if there is a file with the specified name\n",
    "if len(filtered_files) == 1:\n",
    "    selected_file = filtered_files[0]\n",
    "    full_path = os.path.join(Path_, selected_file)\n",
    "    print(\"Selected file:\", full_path)\n",
    "elif len(filtered_files) > 1:\n",
    "    print(\"Multiple files found matching the criteria.\")\n",
    "else:\n",
    "    print(\"No matching file found.\")\n",
    "    \n",
    "# Read the file into a dataframe\n",
    "nasdaq = pd.read_csv(full_path)"
   ]
  },
  {
   "cell_type": "code",
   "execution_count": 6,
   "id": "d58f2e39-ddf0-43d1-8015-d19c07af0251",
   "metadata": {
    "tags": []
   },
   "outputs": [
    {
     "data": {
      "text/plain": [
       "2174"
      ]
     },
     "execution_count": 6,
     "metadata": {},
     "output_type": "execute_result"
    }
   ],
   "source": [
    "#Get list with all US-listed companies in NASDAQ exchange over 50m market cap\n",
    "nasdaq = nasdaq.sort_values(\"Market Cap\", ascending = False).reset_index().drop(\"index\", axis = 1)\n",
    "tickers = nasdaq[\"Symbol\"].values\n",
    "# It is important to notice that depending on the day this list will change, due delistings, reslistings and new listings.\n",
    "len(tickers)"
   ]
  },
  {
   "cell_type": "code",
   "execution_count": 7,
   "id": "3eec7992-3a4f-4cd3-907d-b9f978cf132e",
   "metadata": {
    "tags": []
   },
   "outputs": [
    {
     "data": {
      "text/plain": [
       "2022"
      ]
     },
     "execution_count": 7,
     "metadata": {},
     "output_type": "execute_result"
    }
   ],
   "source": [
    "#User new list of tickers instead\n",
    "#Note: this block was made after the whole code below was run for the first time. We had to get the data all over again and removed some of the original tickers shown above\n",
    "\n",
    "tickers = pd.read_csv(\"TickerNames_2022.csv\")[\"Symbol\"].values\n",
    "tickers = tickers\n",
    "len(tickers)"
   ]
  },
  {
   "cell_type": "code",
   "execution_count": 15,
   "id": "998a05fd-8e27-451f-ac6f-141fe46ea9c0",
   "metadata": {
    "tags": []
   },
   "outputs": [
    {
     "name": "stderr",
     "output_type": "stream",
     "text": [
      "2it [00:04,  2.42s/it]"
     ]
    },
    {
     "name": "stdout",
     "output_type": "stream",
     "text": [
      "Company GOOG was not retrived from API\n"
     ]
    },
    {
     "name": "stderr",
     "output_type": "stream",
     "text": [
      "5it [00:17,  3.34s/it]"
     ]
    }
   ],
   "source": [
    "\n",
    "logfile = Path.cwd()/'financial_data_logs.csv'\n",
    "missing = []\n",
    "index_missing = []\n",
    "fundamentals_failed = []\n",
    "fundamentals_index = []\n",
    "\n",
    "for i, ticker in tqdm.tqdm(enumerate(tickers)):\n",
    "    try:\n",
    "        #Get End-of-Day stock price data\n",
    "        eod = stock_eod(ticker)\n",
    "        #Get fundamentals\n",
    "        fund, status = stock_fundamental(ticker)\n",
    "        if status == \"No\":\n",
    "            fundamentals_failed.append(ticker)\n",
    "            fundamentals_index.append(ticker)\n",
    "        \n",
    "        try:\n",
    "            eod.to_csv(cwd/f'Eod/{ticker}.csv', index = False)  #save end of day data only \n",
    "            fund.to_csv(cwd/f'Fundamentals/{ticker}.csv', index = False)  #save fundamental data only\n",
    "\n",
    "            #merge fundamental and end of day data on date\n",
    "            stock = eod.merge(fund, how = \"left\", on = \"date\")\n",
    "            df_to_csv(stock,ticker) #save all data for the single stock\n",
    "            log(ticker, stock, logfile, status) #track all succeded logs\n",
    "        except:\n",
    "            print(f\"Data for company {ticker} was retrieved from API but not saved\")\n",
    "                \n",
    "    except:\n",
    "        print(f'Company {ticker} was not retrived from API')\n",
    "        missing.append(ticker)\n",
    "        index_missing.append(i)\n",
    "        time.sleep(5)\n",
    "            \n",
    "    time.sleep(0.5)\n"
   ]
  },
  {
   "cell_type": "code",
   "execution_count": 12,
   "id": "e67a16cb-5eec-4d75-9af8-183151b98d5f",
   "metadata": {
    "collapsed": true,
    "jupyter": {
     "outputs_hidden": true
    },
    "tags": []
   },
   "outputs": [
    {
     "ename": "NameError",
     "evalue": "name 'missing' is not defined",
     "output_type": "error",
     "traceback": [
      "\u001b[1;31m---------------------------------------------------------------------------\u001b[0m",
      "\u001b[1;31mNameError\u001b[0m                                 Traceback (most recent call last)",
      "Cell \u001b[1;32mIn[12], line 1\u001b[0m\n\u001b[1;32m----> 1\u001b[0m missing_values \u001b[39m=\u001b[39m pd\u001b[39m.\u001b[39mDataFrame([missing, index_missing])\u001b[39m.\u001b[39mT\n\u001b[0;32m      2\u001b[0m missing_values\u001b[39m.\u001b[39mto_csv(\u001b[39m\"\u001b[39m\u001b[39mmissing_stocks.csv\u001b[39m\u001b[39m\"\u001b[39m, index \u001b[39m=\u001b[39m \u001b[39mFalse\u001b[39;00m)\n\u001b[0;32m      3\u001b[0m fundamentals_missing \u001b[39m=\u001b[39m pd\u001b[39m.\u001b[39mDataFrame([fundamentals_failed,fundamentals_index])\u001b[39m.\u001b[39mT\n",
      "\u001b[1;31mNameError\u001b[0m: name 'missing' is not defined"
     ]
    }
   ],
   "source": [
    "missing_values = pd.DataFrame([missing, index_missing]).T\n",
    "missing_values.to_csv(\"missing_stocks.csv\", index = False)\n",
    "fundamentals_missing = pd.DataFrame([fundamentals_failed,fundamentals_index]).T"
   ]
  },
  {
   "cell_type": "markdown",
   "id": "c550c8c6-a6f2-4a4f-a6a4-ce45460e7523",
   "metadata": {
    "tags": []
   },
   "source": [
    "### Validate datacollection\n",
    "As shown above there are 70 stocks that could not be retrieved. After some consideration it was decided to drop these stocks because of two reason.\n",
    "Some of them are just to small or were listed after 2023-06-01, meaning there will be some missing data.\n",
    "\n",
    "The last argument needs to be validated for all the stocks there is data on, as if some stocks have less available dates or na values then they should be reevaluated.\n",
    "\n",
    "Therefore, the next block will be about evaluation of stocks"
   ]
  },
  {
   "cell_type": "code",
   "execution_count": 13,
   "id": "853e8dc3-2d66-4552-87ad-b87e21afb1f7",
   "metadata": {
    "tags": []
   },
   "outputs": [],
   "source": [
    "#create a validation log that saves the information of all stocks\n",
    "def log_val(ticker, df, logfile, output_path=os.getcwd()):\n",
    "    #open or create the csv file\n",
    "    if os.path.isfile(logfile): #if log file exist, open and allow changes\n",
    "        log = open(logfile,'a')\n",
    "    else:\n",
    "        log = open(logfile,'w')\n",
    "        header = ['Timestamp', 'Ticker', 'Shape', 'Accept', 'Nr. NaN values']\n",
    "        log.write(\";\".join(header)+\"\\n\") #Make the headers and jump to the new line\n",
    "    \n",
    "    accept = \"Yes\"\n",
    "    accept_cond = (267,14)\n",
    "    #Gather log information\n",
    "    timestamp = time.strftime('%Y-%m-%d %H:%M:%S', time.localtime(time.time())) #local time\n",
    "    shape = df.shape\n",
    "    if df.shape != accept_cond:\n",
    "        accept = \"No\"\n",
    "    nan_val = sum(df.isna().sum().values)\n",
    "    \n",
    "    #Open the log file and append the gathered log information\n",
    "    with open(logfile, 'a') as log:\n",
    "        log.write(f'{timestamp};{ticker};{shape};{accept};{nan_val}' + \"\\n\") #Append the information and jump to the new line.\n",
    "        \n",
    "#create a validation log that saves the information of all stocks fundamentals\n",
    "def log_val_fund(ticker, df, logfile, output_path=os.getcwd()):\n",
    "    #open or create the csv file\n",
    "    if os.path.isfile(logfile): #if log file exist, open and allow changes\n",
    "        log = open(logfile,'a')\n",
    "    else:\n",
    "        log = open(logfile,'w')\n",
    "        header = ['Timestamp', 'Ticker', 'Shape', 'Accept', 'Nr. NaN values']\n",
    "        log.write(\";\".join(header)+\"\\n\") #Make the headers and jump to the new line\n",
    "    \n",
    "    accept = \"Yes\"\n",
    "    accept_cond = (365,8) #the shape it should have in the research period\n",
    "    #Gather log information\n",
    "    timestamp = time.strftime('%Y-%m-%d %H:%M:%S', time.localtime(time.time())) #local time\n",
    "    shape = df.shape\n",
    "    if df.shape != accept_cond:\n",
    "        accept = \"No\"\n",
    "    nan_val = sum(df.isna().sum().values)\n",
    "    \n",
    "    #Open the log file and append the gathered log information\n",
    "    with open(logfile, 'a') as log:\n",
    "        log.write(f'{timestamp};{ticker};{shape};{accept};{nan_val}' + \"\\n\") #Append the information and jump to the new line.\n",
    "\n",
    "#create a validation log that saves the information of all stocks eod\n",
    "def log_val_eod(ticker, df, logfile, output_path=os.getcwd()):\n",
    "    #open or create the csv file\n",
    "    if os.path.isfile(logfile): #if log file exist, open and allow changes\n",
    "        log = open(logfile,'a')\n",
    "    else:\n",
    "        log = open(logfile,'w')\n",
    "        header = ['Timestamp', 'Ticker', 'Shape', 'Accept', 'Nr. NaN values']\n",
    "        log.write(\";\".join(header)+\"\\n\") #Make the headers and jump to the new line\n",
    "    \n",
    "    accept = \"Yes\"\n",
    "    accept_cond = (267,7)\n",
    "    #Gather log information\n",
    "    timestamp = time.strftime('%Y-%m-%d %H:%M:%S', time.localtime(time.time())) #local time\n",
    "    shape = df.shape\n",
    "    if df.shape != accept_cond:\n",
    "        accept = \"No\"\n",
    "    nan_val = sum(df.isna().sum().values)\n",
    "    \n",
    "    #Open the log file and append the gathered log information\n",
    "    with open(logfile, 'a') as log:\n",
    "        log.write(f'{timestamp};{ticker};{shape};{accept};{nan_val}' + \"\\n\") #Append the information and jump to the new line.\n",
    "        \n"
   ]
  },
  {
   "cell_type": "code",
   "execution_count": 9,
   "id": "6ea071b3-302c-4e8e-a68b-7d6184fe9088",
   "metadata": {
    "collapsed": true,
    "jupyter": {
     "outputs_hidden": true
    },
    "tags": []
   },
   "outputs": [],
   "source": [
    "tickers #all tickers\n",
    "missing_values = pd.read_csv(\"missing_stocks.csv\")\n",
    "idxs = missing_values[\"1\"].values #index for missing companies"
   ]
  },
  {
   "cell_type": "markdown",
   "id": "aebe59a9-1e52-40c9-bac1-a788d7dd608f",
   "metadata": {},
   "source": [
    "#### Validation of Eod data collection"
   ]
  },
  {
   "cell_type": "code",
   "execution_count": 10,
   "id": "386aa53b-4cb8-4f91-a678-d3088df22060",
   "metadata": {
    "tags": []
   },
   "outputs": [
    {
     "data": {
      "text/plain": [
       "(267, 7)"
      ]
     },
     "execution_count": 10,
     "metadata": {},
     "output_type": "execute_result"
    }
   ],
   "source": [
    "aapl = pd.read_csv(eod_path/\"AAPL.csv\")\n",
    "aapl[\"date\"]=pd.to_datetime(aapl[\"date\"])\n",
    "aapl[(aapl[\"date\"]>'2022-05-10') & (aapl[\"date\"]<'2023-06-03')].shape"
   ]
  },
  {
   "cell_type": "code",
   "execution_count": 14,
   "id": "c9fb6079-29ec-47c1-b18b-b2425a88f903",
   "metadata": {
    "tags": []
   },
   "outputs": [
    {
     "name": "stdout",
     "output_type": "stream",
     "text": [
      "The right shape for at stock is (395, 7)\n"
     ]
    },
    {
     "name": "stderr",
     "output_type": "stream",
     "text": [
      "100%|██████████| 2022/2022 [00:10<00:00, 199.66it/s]\n"
     ]
    }
   ],
   "source": [
    "#Get data for each stock and check it has the right shape. The right shape will be the same shape as apple stock has (has date on all cells)\n",
    "aapl = pd.read_csv(eod_path/\"AAPL.csv\")\n",
    "print(f\"The right shape for at stock is {aapl.shape}\")\n",
    "logval = Path.cwd()/f'Stock_validation_eod.csv'\n",
    "\n",
    "for i in tqdm.tqdm(range(len(tickers))):\n",
    "    #check if i stock is one of the 70 missing\n",
    "    \n",
    "    df = pd.read_csv(eod_path/f\"{tickers[i]}.csv\")\n",
    "    df[\"date\"]=pd.to_datetime(df[\"date\"])\n",
    "    df = df[(df[\"date\"]>'2022-05-10') & (df[\"date\"]<'2023-06-03')]\n",
    "    log_val_eod(tickers[i], df, logval)\n",
    "    "
   ]
  },
  {
   "cell_type": "code",
   "execution_count": null,
   "id": "13d34573-7f9b-4d5e-a540-ee30e6466920",
   "metadata": {
    "jupyter": {
     "source_hidden": true
    },
    "tags": []
   },
   "outputs": [],
   "source": [
    "#The commented code below is used in case some companies as missing - this is no longer the case after data extraction number 2\n",
    "'''    \n",
    "abval = 0\n",
    "for j in range(len(idxs)):\n",
    "        if i==0:\n",
    "            continue\n",
    "        elif i==idxs[j]:\n",
    "            abval = 1\n",
    "            #print(\"Missing company found with index: \",i)\n",
    "    if abval == 1:\n",
    "        continue'''"
   ]
  },
  {
   "cell_type": "code",
   "execution_count": 15,
   "id": "1fcded9a-93df-46d9-a312-2eb9336ef346",
   "metadata": {
    "tags": []
   },
   "outputs": [
    {
     "data": {
      "text/plain": [
       "'if sum(eod_del)==0:\\n    print(f\"There\\'s complete data for all {len(tickers)} companies!\")'"
      ]
     },
     "execution_count": 15,
     "metadata": {},
     "output_type": "execute_result"
    }
   ],
   "source": [
    "#Get log-validation file created above\n",
    "validation_eod = pd.read_csv(\"Stock_validation_eod.csv\", sep = \";\")\n",
    "\n",
    "#Find all stocks that were not accepted due to data shortage\n",
    "eod_del = validation_eod[validation_eod[\"Accept\"]==\"No\"][\"Ticker\"].values\n",
    "\n",
    "'''if sum(eod_del)==0:\n",
    "    print(f\"There's complete data for all {len(tickers)} companies!\")'''"
   ]
  },
  {
   "cell_type": "code",
   "execution_count": 16,
   "id": "d0a7e59c-a001-4efb-a5db-5d4cbd9c34a2",
   "metadata": {
    "tags": []
   },
   "outputs": [
    {
     "ename": "IndexError",
     "evalue": "index 2099 is out of bounds for axis 0 with size 2022",
     "output_type": "error",
     "traceback": [
      "\u001b[1;31m---------------------------------------------------------------------------\u001b[0m",
      "\u001b[1;31mIndexError\u001b[0m                                Traceback (most recent call last)",
      "Cell \u001b[1;32mIn[16], line 5\u001b[0m\n\u001b[0;32m      1\u001b[0m \u001b[39m#Now we have 70 companies that could not be retrieved for API and 96 that were listed after the given date period.\u001b[39;00m\n\u001b[0;32m      2\u001b[0m \u001b[39m#Its time to remove these companies from the dataset\u001b[39;00m\n\u001b[0;32m      3\u001b[0m \n\u001b[0;32m      4\u001b[0m \u001b[39m#Remove Non-retrieved-data from tickers list:\u001b[39;00m\n\u001b[1;32m----> 5\u001b[0m tickers_new \u001b[39m=\u001b[39m np\u001b[39m.\u001b[39;49mdelete(tickers, idxs)\n\u001b[0;32m      7\u001b[0m \u001b[39m#Remove tickers with incomple datasets from tickers_list\u001b[39;00m\n\u001b[0;32m      8\u001b[0m index_eod_remove \u001b[39m=\u001b[39m []\n",
      "File \u001b[1;32m<__array_function__ internals>:5\u001b[0m, in \u001b[0;36mdelete\u001b[1;34m(*args, **kwargs)\u001b[0m\n",
      "File \u001b[1;32mc:\\Users\\Soren\\.conda\\envs\\pydata-book\\lib\\site-packages\\numpy\\lib\\function_base.py:4552\u001b[0m, in \u001b[0;36mdelete\u001b[1;34m(arr, obj, axis)\u001b[0m\n\u001b[0;32m   4550\u001b[0m \u001b[39melse\u001b[39;00m:\n\u001b[0;32m   4551\u001b[0m     keep \u001b[39m=\u001b[39m ones(N, dtype\u001b[39m=\u001b[39m\u001b[39mbool\u001b[39m)\n\u001b[1;32m-> 4552\u001b[0m     keep[obj,] \u001b[39m=\u001b[39m \u001b[39mFalse\u001b[39;00m\n\u001b[0;32m   4554\u001b[0m slobj[axis] \u001b[39m=\u001b[39m keep\n\u001b[0;32m   4555\u001b[0m new \u001b[39m=\u001b[39m arr[\u001b[39mtuple\u001b[39m(slobj)]\n",
      "\u001b[1;31mIndexError\u001b[0m: index 2099 is out of bounds for axis 0 with size 2022"
     ]
    }
   ],
   "source": [
    "#Now we have 70 companies that could not be retrieved for API and 96 that were listed after the given date period.\n",
    "#Its time to remove these companies from the dataset\n",
    "\n",
    "#Remove Non-retrieved-data from tickers list:\n",
    "tickers_new = np.delete(tickers, idxs)\n",
    "\n",
    "#Remove tickers with incomple datasets from tickers_list\n",
    "index_eod_remove = []\n",
    "for i in tqdm.tqdm(range(len(tickers_new))):\n",
    "    for j in range(len(eod_del)):\n",
    "        if tickers_new[i] == eod_del[j]:\n",
    "            index_eod_remove.append(i)\n",
    "tickers_final = np.delete(tickers_new, index_eod_remove)\n",
    "len(tickers_final)\n",
    "\n",
    "#Save as csv file\n",
    "pd.DataFrame(tickers_final, columns = [\"Ticker\"]).to_csv(\"Tickers_final.csv\", index = False)"
   ]
  },
  {
   "cell_type": "code",
   "execution_count": 171,
   "id": "e3f64384-b27e-4ef4-a408-970d55ed3252",
   "metadata": {
    "collapsed": true,
    "jupyter": {
     "outputs_hidden": true
    },
    "tags": []
   },
   "outputs": [
    {
     "name": "stderr",
     "output_type": "stream",
     "text": [
      "100%|██████████| 2118/2118 [00:00<00:00, 15272.68it/s]"
     ]
    },
    {
     "name": "stdout",
     "output_type": "stream",
     "text": [
      "Eod's removed:  96\n",
      "Fundamentals's removed:  96\n",
      "StockSingle's removed:  96\n"
     ]
    },
    {
     "name": "stderr",
     "output_type": "stream",
     "text": [
      "\n"
     ]
    }
   ],
   "source": [
    "#Now its time to remove \n",
    "#as this code is a bit dangerous i commented it\n",
    "#THINK CAREFULLY before using!!! it will delete a lot of data\n",
    "\n",
    "'''eod_succed = []\n",
    "fundamentals_succed = []\n",
    "StockSingle_succed = []\n",
    "check = []\n",
    "\n",
    "#Delete all files from stocks with data less than one year\n",
    "for ticker in tqdm.tqdm(tickers_new):\n",
    "    for j in range(len(eod_del)):\n",
    "        if ticker==eod_del[j]:\n",
    "            check.append(ticker)\n",
    "            if os.path.exists(eod_path/f'{ticker}.csv'):\n",
    "                os.remove((eod_path/f'{ticker}.csv'))\n",
    "                eod_succed.append(1)\n",
    "            else:\n",
    "                eod_succed.append(0)\n",
    "\n",
    "            if os.path.exists(fundamentals_path/f'{ticker}.csv'):\n",
    "                os.remove((fundamentals_path/f'{ticker}.csv'))\n",
    "                fundamentals_succed.append(1)\n",
    "            else:\n",
    "                fundamentals_succed.append(0)\n",
    "\n",
    "            if os.path.exists(SingleStock_data/f'{ticker}.csv'):\n",
    "                os.remove((SingleStock_data/f'{ticker}.csv'))\n",
    "                StockSingle_succed.append(1)\n",
    "            else:\n",
    "                StockSingle_succed.append(0)\n",
    "\n",
    "print(\"Eod's removed: \",sum(eod_succed))\n",
    "print(\"Fundamentals's removed: \",sum(fundamentals_succed))\n",
    "print(\"StockSingle's removed: \",sum(StockSingle_succed))'''\n"
   ]
  },
  {
   "cell_type": "markdown",
   "id": "a886b39a-032c-4658-bbc3-43d2fbc65f52",
   "metadata": {},
   "source": [
    "#### Validation of fundamental data collection"
   ]
  },
  {
   "cell_type": "code",
   "execution_count": 18,
   "id": "9a8b972f-847b-4fca-89af-5f642a41788c",
   "metadata": {
    "tags": []
   },
   "outputs": [
    {
     "name": "stdout",
     "output_type": "stream",
     "text": [
      "The right shape for at stock is (577, 8)\n"
     ]
    },
    {
     "name": "stderr",
     "output_type": "stream",
     "text": [
      "100%|██████████| 2022/2022 [00:11<00:00, 178.03it/s]\n"
     ]
    }
   ],
   "source": [
    "#tickers_final = np.delete(tickers, idxs)\n",
    "aapl = pd.read_csv(fundamentals_path/\"AAPL.csv\")\n",
    "print(f\"The right shape for at stock is {aapl.shape}\")\n",
    "logval = Path.cwd()/f'Stock_validation_fundamentals.csv'\n",
    "\n",
    "for i in tqdm.tqdm(range(len(tickers))):\n",
    "    df = pd.read_csv(fundamentals_path/f\"{tickers[i]}.csv\")\n",
    "    df[\"date\"] = pd.to_datetime(df[\"date\"])\n",
    "    df = df[(df[\"date\"]>'2022-06-01')&(df[\"date\"]<'2023-06-02')]\n",
    "    log_val_fund(tickers[i], df, logval)\n"
   ]
  },
  {
   "cell_type": "code",
   "execution_count": 19,
   "id": "abad1117-e588-422c-8622-a1fd23e98f44",
   "metadata": {
    "tags": []
   },
   "outputs": [
    {
     "data": {
      "text/html": [
       "<div>\n",
       "<style scoped>\n",
       "    .dataframe tbody tr th:only-of-type {\n",
       "        vertical-align: middle;\n",
       "    }\n",
       "\n",
       "    .dataframe tbody tr th {\n",
       "        vertical-align: top;\n",
       "    }\n",
       "\n",
       "    .dataframe thead th {\n",
       "        text-align: right;\n",
       "    }\n",
       "</style>\n",
       "<table border=\"1\" class=\"dataframe\">\n",
       "  <thead>\n",
       "    <tr style=\"text-align: right;\">\n",
       "      <th></th>\n",
       "      <th>Timestamp</th>\n",
       "      <th>Ticker</th>\n",
       "      <th>Shape</th>\n",
       "      <th>Accept</th>\n",
       "      <th>Nr. NaN values</th>\n",
       "    </tr>\n",
       "  </thead>\n",
       "  <tbody>\n",
       "    <tr>\n",
       "      <th>94</th>\n",
       "      <td>2023-08-22 21:38:28</td>\n",
       "      <td>SABRP</td>\n",
       "      <td>(0, 8)</td>\n",
       "      <td>No</td>\n",
       "      <td>0.0</td>\n",
       "    </tr>\n",
       "    <tr>\n",
       "      <th>95</th>\n",
       "      <td>2023-08-22 21:38:28</td>\n",
       "      <td>HBANP</td>\n",
       "      <td>(0, 8)</td>\n",
       "      <td>No</td>\n",
       "      <td>0.0</td>\n",
       "    </tr>\n",
       "    <tr>\n",
       "      <th>125</th>\n",
       "      <td>2023-08-22 21:38:28</td>\n",
       "      <td>FITBI</td>\n",
       "      <td>(0, 8)</td>\n",
       "      <td>No</td>\n",
       "      <td>0.0</td>\n",
       "    </tr>\n",
       "    <tr>\n",
       "      <th>135</th>\n",
       "      <td>2023-08-22 21:38:28</td>\n",
       "      <td>FITBP</td>\n",
       "      <td>(0, 8)</td>\n",
       "      <td>No</td>\n",
       "      <td>0.0</td>\n",
       "    </tr>\n",
       "    <tr>\n",
       "      <th>148</th>\n",
       "      <td>2023-08-22 21:38:28</td>\n",
       "      <td>AGNCN</td>\n",
       "      <td>(0, 8)</td>\n",
       "      <td>No</td>\n",
       "      <td>0.0</td>\n",
       "    </tr>\n",
       "    <tr>\n",
       "      <th>...</th>\n",
       "      <td>...</td>\n",
       "      <td>...</td>\n",
       "      <td>...</td>\n",
       "      <td>...</td>\n",
       "      <td>...</td>\n",
       "    </tr>\n",
       "    <tr>\n",
       "      <th>1979</th>\n",
       "      <td>2023-08-22 21:38:38</td>\n",
       "      <td>BAFN</td>\n",
       "      <td>(303, 8)</td>\n",
       "      <td>No</td>\n",
       "      <td>543.0</td>\n",
       "    </tr>\n",
       "    <tr>\n",
       "      <th>1994</th>\n",
       "      <td>2023-08-22 21:38:39</td>\n",
       "      <td>MOVE</td>\n",
       "      <td>(303, 8)</td>\n",
       "      <td>No</td>\n",
       "      <td>545.0</td>\n",
       "    </tr>\n",
       "    <tr>\n",
       "      <th>1996</th>\n",
       "      <td>2023-08-22 21:38:39</td>\n",
       "      <td>DUNE</td>\n",
       "      <td>(303, 8)</td>\n",
       "      <td>No</td>\n",
       "      <td>907.0</td>\n",
       "    </tr>\n",
       "    <tr>\n",
       "      <th>1997</th>\n",
       "      <td>2023-08-22 21:38:39</td>\n",
       "      <td>DUNEU</td>\n",
       "      <td>(0, 8)</td>\n",
       "      <td>No</td>\n",
       "      <td>0.0</td>\n",
       "    </tr>\n",
       "    <tr>\n",
       "      <th>2020</th>\n",
       "      <td>2023-08-22 21:38:39</td>\n",
       "      <td>NSTS</td>\n",
       "      <td>(303, 8)</td>\n",
       "      <td>No</td>\n",
       "      <td>909.0</td>\n",
       "    </tr>\n",
       "  </tbody>\n",
       "</table>\n",
       "<p>138 rows × 5 columns</p>\n",
       "</div>"
      ],
      "text/plain": [
       "                Timestamp Ticker     Shape Accept  Nr. NaN values\n",
       "94    2023-08-22 21:38:28  SABRP    (0, 8)     No             0.0\n",
       "95    2023-08-22 21:38:28  HBANP    (0, 8)     No             0.0\n",
       "125   2023-08-22 21:38:28  FITBI    (0, 8)     No             0.0\n",
       "135   2023-08-22 21:38:28  FITBP    (0, 8)     No             0.0\n",
       "148   2023-08-22 21:38:28  AGNCN    (0, 8)     No             0.0\n",
       "...                   ...    ...       ...    ...             ...\n",
       "1979  2023-08-22 21:38:38   BAFN  (303, 8)     No           543.0\n",
       "1994  2023-08-22 21:38:39   MOVE  (303, 8)     No           545.0\n",
       "1996  2023-08-22 21:38:39   DUNE  (303, 8)     No           907.0\n",
       "1997  2023-08-22 21:38:39  DUNEU    (0, 8)     No             0.0\n",
       "2020  2023-08-22 21:38:39   NSTS  (303, 8)     No           909.0\n",
       "\n",
       "[138 rows x 5 columns]"
      ]
     },
     "execution_count": 19,
     "metadata": {},
     "output_type": "execute_result"
    }
   ],
   "source": [
    "#Get log-validation file created above\n",
    "validation_fund = pd.read_csv(\"Stock_validation_fundamentals.csv\", sep = \";\")\n",
    "\n",
    "#Save a variable containing the tickers of datasets that were not accepted (Shape != (368,8))\n",
    "BadShape = validation_fund[validation_fund[\"Accept\"]==\"No\"]\n",
    "BadShape\n"
   ]
  },
  {
   "cell_type": "markdown",
   "id": "63834cdd-2e3c-42a3-989b-3481b69e2719",
   "metadata": {},
   "source": [
    "### Single Stock data (merged date) validation"
   ]
  },
  {
   "cell_type": "code",
   "execution_count": 20,
   "id": "c5f18ef5-2118-4228-b0e9-ba5c232bafea",
   "metadata": {
    "tags": []
   },
   "outputs": [
    {
     "name": "stdout",
     "output_type": "stream",
     "text": [
      "The right shape for at stock is (577, 8)\n"
     ]
    },
    {
     "name": "stderr",
     "output_type": "stream",
     "text": [
      "100%|██████████| 2022/2022 [00:12<00:00, 164.66it/s]\n"
     ]
    }
   ],
   "source": [
    "print(f\"The right shape for at stock is {aapl.shape}\")\n",
    "logval = Path.cwd()/f'Stock_validation_merged.csv'\n",
    "\n",
    "for i in tqdm.tqdm(range(len(tickers))):\n",
    "    df = pd.read_csv(SingleStock_data/f\"{tickers[i]}.csv\")\n",
    "    df[\"date\"] = pd.to_datetime(df[\"date\"])\n",
    "    df = df[(df[\"date\"]>'2022-05-10')&(df[\"date\"]<'2023-06-03')]\n",
    "    log_val(tickers[i], df, logval)\n"
   ]
  },
  {
   "cell_type": "code",
   "execution_count": 21,
   "id": "44fd0de3-8c37-47d5-b1ba-ccfb6591aab6",
   "metadata": {
    "tags": []
   },
   "outputs": [],
   "source": [
    "#Get log-validation file created above\n",
    "validation_merge = pd.read_csv(\"Stock_validation_merged.csv\", sep = \";\")\n",
    "\n",
    "#Save a variable containing the tickers of datasets that were not accepted (Shape != (368,8))\n",
    "BadShape = validation_merge[validation_merge[\"Accept\"]==\"No\"]\n"
   ]
  },
  {
   "cell_type": "code",
   "execution_count": 22,
   "id": "a43a857d-63de-42e3-b23f-22f23a3640de",
   "metadata": {
    "tags": []
   },
   "outputs": [
    {
     "data": {
      "text/html": [
       "<div>\n",
       "<style scoped>\n",
       "    .dataframe tbody tr th:only-of-type {\n",
       "        vertical-align: middle;\n",
       "    }\n",
       "\n",
       "    .dataframe tbody tr th {\n",
       "        vertical-align: top;\n",
       "    }\n",
       "\n",
       "    .dataframe thead th {\n",
       "        text-align: right;\n",
       "    }\n",
       "</style>\n",
       "<table border=\"1\" class=\"dataframe\">\n",
       "  <thead>\n",
       "    <tr style=\"text-align: right;\">\n",
       "      <th></th>\n",
       "      <th>Timestamp</th>\n",
       "      <th>Ticker</th>\n",
       "      <th>Shape</th>\n",
       "      <th>Accept</th>\n",
       "      <th>Nr. NaN values</th>\n",
       "    </tr>\n",
       "  </thead>\n",
       "  <tbody>\n",
       "    <tr>\n",
       "      <th>1075</th>\n",
       "      <td>2023-08-22 21:39:02</td>\n",
       "      <td>MOND</td>\n",
       "      <td>(266, 14)</td>\n",
       "      <td>No</td>\n",
       "      <td>0</td>\n",
       "    </tr>\n",
       "    <tr>\n",
       "      <th>1213</th>\n",
       "      <td>2023-08-22 21:39:03</td>\n",
       "      <td>LIFW</td>\n",
       "      <td>(258, 14)</td>\n",
       "      <td>No</td>\n",
       "      <td>89</td>\n",
       "    </tr>\n",
       "    <tr>\n",
       "      <th>1355</th>\n",
       "      <td>2023-08-22 21:39:03</td>\n",
       "      <td>IVCP</td>\n",
       "      <td>(265, 14)</td>\n",
       "      <td>No</td>\n",
       "      <td>965</td>\n",
       "    </tr>\n",
       "    <tr>\n",
       "      <th>1667</th>\n",
       "      <td>2023-08-22 21:39:05</td>\n",
       "      <td>LCA</td>\n",
       "      <td>(266, 14)</td>\n",
       "      <td>No</td>\n",
       "      <td>968</td>\n",
       "    </tr>\n",
       "    <tr>\n",
       "      <th>1722</th>\n",
       "      <td>2023-08-22 21:39:06</td>\n",
       "      <td>BGXX</td>\n",
       "      <td>(263, 14)</td>\n",
       "      <td>No</td>\n",
       "      <td>899</td>\n",
       "    </tr>\n",
       "    <tr>\n",
       "      <th>1783</th>\n",
       "      <td>2023-08-22 21:39:06</td>\n",
       "      <td>FXNC</td>\n",
       "      <td>(264, 14)</td>\n",
       "      <td>No</td>\n",
       "      <td>477</td>\n",
       "    </tr>\n",
       "    <tr>\n",
       "      <th>1837</th>\n",
       "      <td>2023-08-22 21:39:06</td>\n",
       "      <td>CSBR</td>\n",
       "      <td>(266, 14)</td>\n",
       "      <td>No</td>\n",
       "      <td>0</td>\n",
       "    </tr>\n",
       "    <tr>\n",
       "      <th>1972</th>\n",
       "      <td>2023-08-22 21:39:07</td>\n",
       "      <td>ITAQ</td>\n",
       "      <td>(265, 14)</td>\n",
       "      <td>No</td>\n",
       "      <td>967</td>\n",
       "    </tr>\n",
       "  </tbody>\n",
       "</table>\n",
       "</div>"
      ],
      "text/plain": [
       "                Timestamp Ticker      Shape Accept  Nr. NaN values\n",
       "1075  2023-08-22 21:39:02   MOND  (266, 14)     No               0\n",
       "1213  2023-08-22 21:39:03   LIFW  (258, 14)     No              89\n",
       "1355  2023-08-22 21:39:03   IVCP  (265, 14)     No             965\n",
       "1667  2023-08-22 21:39:05    LCA  (266, 14)     No             968\n",
       "1722  2023-08-22 21:39:06   BGXX  (263, 14)     No             899\n",
       "1783  2023-08-22 21:39:06   FXNC  (264, 14)     No             477\n",
       "1837  2023-08-22 21:39:06   CSBR  (266, 14)     No               0\n",
       "1972  2023-08-22 21:39:07   ITAQ  (265, 14)     No             967"
      ]
     },
     "execution_count": 22,
     "metadata": {},
     "output_type": "execute_result"
    }
   ],
   "source": [
    "validation_merge[validation_merge[\"Accept\"]==\"No\"]"
   ]
  },
  {
   "cell_type": "code",
   "execution_count": null,
   "id": "3d332e95",
   "metadata": {},
   "outputs": [],
   "source": []
  }
 ],
 "metadata": {
  "kernelspec": {
   "display_name": "Python 3 (ipykernel)",
   "language": "python",
   "name": "python3"
  },
  "language_info": {
   "codemirror_mode": {
    "name": "ipython",
    "version": 3
   },
   "file_extension": ".py",
   "mimetype": "text/x-python",
   "name": "python",
   "nbconvert_exporter": "python",
   "pygments_lexer": "ipython3",
   "version": "3.10.12"
  }
 },
 "nbformat": 4,
 "nbformat_minor": 5
}
